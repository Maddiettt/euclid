{
 "cells": [
  {
   "cell_type": "markdown",
   "metadata": {},
   "source": [
    "# Build an application -- A Guess game\n",
    "\n",
    "In the previous sections, we type a few python expressions or statements and evaluate them in the notebook.  \n",
    "This is very convinient to learn language syntax and to experiment with simple functions.   When the program \n",
    "grows more complex we need to organize the program into a project.\n",
    "\n",
    "In this session, we will build a very small game.  You need an editor for edit python code.  Anaconda comes with\n",
    "a python IDE Spyder.  Jupyter lab comes with a Terminal, which we will use to run a command line.   Start terminal,\n",
    "use `cd` command to change directory to $euclid$, create a dir of your own.  Suppose you choose to use `maddie`,\n",
    "enter the following commands in the Terminal.\n",
    "```\n",
    "mkdir maddie\n",
    "cp -r t/guess maddie\n",
    "```\n",
    "Now open Spyder and you should be able to edit python source in the IDE.\n",
    "\n",
    "## List and index\n",
    "List (or Array) in python is a sequence of values.  For example, we can supply command line argument to a python program.  \n",
    "Command line arguments are available in a List `sys.argv`.  Now, take a deep breath, the following is the most\n",
    "important thing about a list, the index of a list start from *0*, not *1*!   You may feel this is wrong, index should start \n",
    "from 1, and yes, some programming language indeed start from 1.  But index of list in python start from 0.  Keep the following\n",
    "picture in mind,\n",
    "<div><img src=\"./listIdx.png\" height=\"200\" width=\"600\"/></div>\n",
    "\n",
    "Off by one is the most common bugs in computer programming.  There is a quote,\n",
    "> There are two really difficult problems in computer science,\n",
    "> 1. Naming things,\n",
    "> 2. Cache Invalidation,\n",
    "> 3. Off by one error.\n"
   ]
  },
  {
   "cell_type": "code",
   "execution_count": 6,
   "metadata": {},
   "outputs": [
    {
     "name": "stdout",
     "output_type": "stream",
     "text": [
      "len(alist) 5\n",
      "1\n",
      "2\n",
      "5\n",
      "[2, 3]\n",
      "[1, 2, 3]\n"
     ]
    },
    {
     "ename": "IndexError",
     "evalue": "list index out of range",
     "output_type": "error",
     "traceback": [
      "\u001b[1;31m---------------------------------------------------------------------------\u001b[0m",
      "\u001b[1;31mIndexError\u001b[0m                                Traceback (most recent call last)",
      "\u001b[1;32m<ipython-input-6-c4535e061222>\u001b[0m in \u001b[0;36m<module>\u001b[1;34m\u001b[0m\n\u001b[0;32m      6\u001b[0m \u001b[0mprint\u001b[0m \u001b[1;33m(\u001b[0m\u001b[0malist\u001b[0m\u001b[1;33m[\u001b[0m\u001b[1;36m1\u001b[0m\u001b[1;33m:\u001b[0m\u001b[1;36m3\u001b[0m\u001b[1;33m]\u001b[0m\u001b[1;33m)\u001b[0m\u001b[1;33m\u001b[0m\u001b[1;33m\u001b[0m\u001b[0m\n\u001b[0;32m      7\u001b[0m \u001b[0mprint\u001b[0m \u001b[1;33m(\u001b[0m\u001b[0malist\u001b[0m\u001b[1;33m[\u001b[0m\u001b[1;33m:\u001b[0m\u001b[1;36m3\u001b[0m\u001b[1;33m]\u001b[0m\u001b[1;33m)\u001b[0m\u001b[1;33m\u001b[0m\u001b[1;33m\u001b[0m\u001b[0m\n\u001b[1;32m----> 8\u001b[1;33m \u001b[0mprint\u001b[0m \u001b[1;33m(\u001b[0m\u001b[0malist\u001b[0m\u001b[1;33m[\u001b[0m\u001b[0mlen\u001b[0m\u001b[1;33m(\u001b[0m\u001b[0malist\u001b[0m\u001b[1;33m)\u001b[0m\u001b[1;33m]\u001b[0m\u001b[1;33m)\u001b[0m\u001b[1;33m\u001b[0m\u001b[1;33m\u001b[0m\u001b[0m\n\u001b[0m",
      "\u001b[1;31mIndexError\u001b[0m: list index out of range"
     ]
    }
   ],
   "source": [
    "alist = [1, 2, 3, 4, 5]\n",
    "print (\"len(alist)\", len(alist))\n",
    "print (alist[0])\n",
    "print (alist[1])\n",
    "print (alist[-1])\n",
    "print (alist[1:3])\n",
    "print (alist[:3])\n",
    "print (alist[len(alist)])\n"
   ]
  },
  {
   "cell_type": "markdown",
   "metadata": {},
   "source": [
    "# Guess\n",
    "Now let's move back to the guess game.  Open Spyder, follow instructions in the comment and finish the implementation.\n",
    "You can run the game\n",
    "```\n",
    "python3 maddie/guess/guess.py 10\n",
    "```\n",
    "\n",
    "Try play the game a few times.  How many times you guessed if the max value you supply is 10, 100, 1000?\n",
    "\n",
    "### Exercise:\n",
    "1. Prove that to guess a positive integer that is less than $2^n$, you need to guess at most $n$ times.  How?"
   ]
  },
  {
   "cell_type": "code",
   "execution_count": null,
   "metadata": {},
   "outputs": [],
   "source": []
  }
 ],
 "metadata": {
  "kernelspec": {
   "display_name": "Python 3",
   "language": "python",
   "name": "python3"
  },
  "language_info": {
   "codemirror_mode": {
    "name": "ipython",
    "version": 3
   },
   "file_extension": ".py",
   "mimetype": "text/x-python",
   "name": "python",
   "nbconvert_exporter": "python",
   "pygments_lexer": "ipython3",
   "version": "3.7.3"
  }
 },
 "nbformat": 4,
 "nbformat_minor": 2
}
