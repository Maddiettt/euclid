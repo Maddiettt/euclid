{
 "cells": [
  {
   "cell_type": "markdown",
   "metadata": {},
   "source": [
    "# Function\n",
    "\n",
    "A function $f$ maps each element (called input or argument) of a set $X$ to one element of set $Y$.   The two sets $X$ and $Y$ may or may not be the same set.\n",
    "<div><img src=\"./Codomain2.svg\" height=\"200\" width=\"200\"></div>\n",
    "$X$ is called the domain of $f$ and $Y$ is called the codomain of $f$.  The set of all the output of $f$ is called the image.  Let's see some examples,\n",
    "\n",
    "* $f(x) = x^2$ where the domain is all the real number $\\mathbb{R}$, the image is $\\{x|x \\in \\mathbb{R}, x \\geq 0\\}$.\n",
    "* $f(x) = 1/x$, is not defined at $x=0$.  The both domain and image of this function is $\\{x|x \\ne 0\\}$.\n",
    "* $f(x, y) = x + y$, the domain is $\\mathbb{R} \\times \\mathbb{R}$.  Codomain and image are real numbers $\\mathbb{R}$ \n",
    "\n",
    "### Exercise: \n",
    "1. What is the domain and image of function $f(x, y) = x/y$ if we allow $x$ and $y$ to be real numbers?\n",
    "2. If we only allow $x$ and $y$ to be integers, what is the domain and image of $f(x, y) = x/y$? \n"
   ]
  },
  {
   "cell_type": "markdown",
   "metadata": {},
   "source": [
    "# Function in Programming\n",
    "\n",
    "Function is also the central concept in programming.  We will use a programming language called Python.  A function takes input value (called argument, or parameter) and compute an output value.  A function in python looks like this, \n",
    "```\n",
    "def functionName(x, y):\n",
    "    body to compute a value\n",
    "    return computed value\n",
    "```\n",
    "You can call, or invoke a function `retValue = functionName(x, y)`.   \n",
    "\n",
    "In Python, white space, or indentation matters.  All the code that implements a function should be indented.\n",
    "Now let's see some examples.  Hit the execution button to execute the following code."
   ]
  },
  {
   "cell_type": "code",
   "execution_count": 15,
   "metadata": {},
   "outputs": [
    {
     "name": "stdout",
     "output_type": "stream",
     "text": [
      "Square of 1.234 is 1.522756\n",
      "Inverse of the square of 1.234 is 0.6567040287478756\n",
      "Add(1, 2) you get 3\n"
     ]
    }
   ],
   "source": [
    "# starts a comment, till end of line\n",
    "\n",
    "# a function adding two things.\n",
    "def add(x, y):\n",
    "    # indented\n",
    "    return x+y\n",
    "\n",
    "# another function, note the indentation\n",
    "def inverse(x):\n",
    "    return 1.0/x\n",
    "    \n",
    "# another function\n",
    "def square(x):\n",
    "    return x*x\n",
    "    print(\"Will you see this one?\")\n",
    "\n",
    "# note indentation: the print are statements print out to screen.  \n",
    "# it is not indented therefore it is not part of function square\n",
    "print(\"Square of 1.234 is\", square(1.234))\n",
    "print(\"Inverse of the square of 1.234 is\", inverse(square(1.234)))\n",
    "print(\"Add(1, 2) you get\", add(1, 2))"
   ]
  },
  {
   "cell_type": "markdown",
   "metadata": {},
   "source": [
    "### Exercise: \n",
    "1. Why the line \"Will you see this one\" is not printed when you execute the cell above?\n",
    "1. Call square function to compute $3.0^2$.  \n",
    "1. What will happen if you call function inverse(0)?\n",
    "1. What will happen if you call add(\"foo\", 5)?"
   ]
  },
  {
   "cell_type": "code",
   "execution_count": 12,
   "metadata": {},
   "outputs": [
    {
     "data": {
      "text/plain": [
       "9.0"
      ]
     },
     "execution_count": 12,
     "metadata": {},
     "output_type": "execute_result"
    }
   ],
   "source": [
    "# This is a comment, till end of the line.\n",
    "# You can put in an expression below and evalute it.\n",
    "square(3.0)"
   ]
  },
  {
   "cell_type": "markdown",
   "metadata": {},
   "source": [
    "# Variable and Values\n",
    "Examples of a value can be a number like \n",
    "`1`, `3.14`, `-2.71828`, a boolean vlaue `True`, `False`, a string `'foo'`, `\"bar\"`.\n",
    "Note that string is quoted.  String can be triple quoted.   Triple quoted string \n",
    "is handy if the string has some strange characters.\n",
    "```\n",
    "'this is a string.  it can have \", but need to write \\' for single quote'\n",
    "\n",
    "\"Another string, you need \\\"\"\n",
    "\n",
    "'''Triple quoted string can have ' or \" in it.'''  \n",
    "\n",
    "\"\"\"This is a multiline string.\n",
    "Line 2: can have ', \", etc.\n",
    "Line 3:\n",
    "\"\"\"\n",
    "```\n",
    "There is a special value `None`, which you can think of as a value of unknow, nothing.\n",
    "\n",
    "`'foo'` is a string but without the quote mark, it became a variable.   A variable is a name that holds a value.  \n",
    "`foo = True`, will assign the value True to variable foo.   To confuse mathematicians, programmers use `=` for \n",
    "assignment.   If you need to compare whether two values are equal, you have to use `==`.\n",
    "\n",
    "### Exercise: \n",
    "1. Evaluate the following expressions one by one.\n",
    "\n",
    "```\n",
    "1+2*3\n",
    "(1+2)*3\n",
    "1==2\n",
    "1=2\n",
    "\n",
    "\"foo\" == \"bar\"\n",
    "\"foo\" = \"bar\"\n",
    "foo == \"bar\"\n",
    "foo = \"bar\"\n",
    "foo == \"bar\"\n",
    "```"
   ]
  },
  {
   "cell_type": "code",
   "execution_count": 25,
   "metadata": {},
   "outputs": [
    {
     "data": {
      "text/plain": [
       "7"
      ]
     },
     "execution_count": 25,
     "metadata": {},
     "output_type": "execute_result"
    }
   ],
   "source": [
    "# Evaluate here.\n",
    "1+2*3"
   ]
  },
  {
   "cell_type": "markdown",
   "metadata": {},
   "source": [
    "### Homework\n",
    "Read [An Informal Introduction to Python](http://docs.python.org/3/tutorial/introduction.html)."
   ]
  },
  {
   "cell_type": "markdown",
   "metadata": {},
   "source": [
    "# Test with `if`, loop with `for`\n",
    "\n",
    "We will look at the two basic control flow for python.  You can execute statement conditionally.\n",
    "```\n",
    "if condition:\n",
    "   do something\n",
    "elif condition:\n",
    "   do something\n",
    "else:\n",
    "   do something else\n",
    "```\n",
    "\n",
    "You can repeated execute some statements using a for loop.   In the for loop, you can use `break` to break out of the\n",
    "loop, and use `continue` to continue.   The loop may have an else clause -- the else clause will be executed after the\n",
    "for loop exhausted the loop range, but won't be executed if you use break to break out of the loop explicitly.\n",
    "\n",
    "### Exercise: \n",
    "1. Running the following code.   Change the value of foo to 5, 6, 8, 10, 15.   Understand the output.  \n",
    "2. range(1, 10), does this include value 1?  10?\n",
    "3. there are two `else:` at the end of the code.   One of the `else` is for a `if`, which `if`?   One of the else is for `for`.   Do you see how whitespace matters?"
   ]
  },
  {
   "cell_type": "code",
   "execution_count": 32,
   "metadata": {},
   "outputs": [
    {
     "name": "stdout",
     "output_type": "stream",
     "text": [
      "1 in the loop\n",
      "2 is even.\n",
      "3 is a multiple of 3.\n",
      "4 is even.\n",
      "5 in the loop\n",
      "6 is even.\n",
      "7 in the loop\n",
      "8 is even.\n",
      "9 is a multiple of 3.\n",
      "The else clause of for loop!\n"
     ]
    }
   ],
   "source": [
    "foo = 10\n",
    "for x in range(1, 10):\n",
    "    if x == foo:\n",
    "        print(\"Break out of the loop.\")\n",
    "        break\n",
    "        \n",
    "    if x % 2 == 0:\n",
    "        print(x, \"is even.\")\n",
    "        continue\n",
    "    \n",
    "    if x % 3 == 0:\n",
    "        print(x, \"is a multiple of 3.\")\n",
    "    else:\n",
    "        print(x, \"in the loop\")\n",
    "else:\n",
    "    print (\"The else clause of for loop!\")\n",
    "        "
   ]
  },
  {
   "cell_type": "markdown",
   "metadata": {},
   "source": [
    "## An example\n",
    "Let's write a more interesting function, to factor an integer.   The following code try to factor an integer to a product of two numbers.  Of course, we do not want the trivial result $n = 1 \\times n$, unless n is a prime number.   \n",
    "Exercise:\n",
    "What is the output if we write `return i, n//i` as `return i, n/i`?"
   ]
  },
  {
   "cell_type": "code",
   "execution_count": 41,
   "metadata": {},
   "outputs": [
    {
     "data": {
      "text/plain": [
       "(59, 509)"
      ]
     },
     "execution_count": 41,
     "metadata": {},
     "output_type": "execute_result"
    }
   ],
   "source": [
    "def factor(n):\n",
    "    for i in range(2, n):\n",
    "        if n % i == 0:\n",
    "            return i, n//i\n",
    "    return 1, n\n",
    "\n",
    "factor(30031)"
   ]
  },
  {
   "cell_type": "markdown",
   "metadata": {},
   "source": [
    "### Exercise:\n",
    "1. What is the result of factor(6700417)?\n",
    "1. What is the result of factor(2147483647)?  If it take too long to run, hit the $\\blacksquare$ on top to stop the execution.\n",
    "1. Improve the factor function to let it run faster.   Repeat factor(2147483647) using your improved version."
   ]
  },
  {
   "cell_type": "code",
   "execution_count": 44,
   "metadata": {},
   "outputs": [
    {
     "data": {
      "text/plain": [
       "(1, 6700417)"
      ]
     },
     "execution_count": 44,
     "metadata": {},
     "output_type": "execute_result"
    }
   ],
   "source": [
    "factor(6700417)"
   ]
  },
  {
   "cell_type": "code",
   "execution_count": 43,
   "metadata": {},
   "outputs": [
    {
     "ename": "KeyboardInterrupt",
     "evalue": "",
     "output_type": "error",
     "traceback": [
      "\u001b[1;31m---------------------------------------------------------------------------\u001b[0m",
      "\u001b[1;31mKeyboardInterrupt\u001b[0m                         Traceback (most recent call last)",
      "\u001b[1;32m<ipython-input-43-3c301c697594>\u001b[0m in \u001b[0;36m<module>\u001b[1;34m\u001b[0m\n\u001b[1;32m----> 1\u001b[1;33m \u001b[0mfactor\u001b[0m\u001b[1;33m(\u001b[0m\u001b[1;36m2147483647\u001b[0m\u001b[1;33m)\u001b[0m\u001b[1;33m\u001b[0m\u001b[1;33m\u001b[0m\u001b[0m\n\u001b[0m",
      "\u001b[1;32m<ipython-input-41-d13783ab567a>\u001b[0m in \u001b[0;36mfactor\u001b[1;34m(n)\u001b[0m\n\u001b[0;32m      1\u001b[0m \u001b[1;32mdef\u001b[0m \u001b[0mfactor\u001b[0m\u001b[1;33m(\u001b[0m\u001b[0mn\u001b[0m\u001b[1;33m)\u001b[0m\u001b[1;33m:\u001b[0m\u001b[1;33m\u001b[0m\u001b[1;33m\u001b[0m\u001b[0m\n\u001b[0;32m      2\u001b[0m     \u001b[1;32mfor\u001b[0m \u001b[0mi\u001b[0m \u001b[1;32min\u001b[0m \u001b[0mrange\u001b[0m\u001b[1;33m(\u001b[0m\u001b[1;36m2\u001b[0m\u001b[1;33m,\u001b[0m \u001b[0mn\u001b[0m\u001b[1;33m)\u001b[0m\u001b[1;33m:\u001b[0m\u001b[1;33m\u001b[0m\u001b[1;33m\u001b[0m\u001b[0m\n\u001b[1;32m----> 3\u001b[1;33m         \u001b[1;32mif\u001b[0m \u001b[0mn\u001b[0m \u001b[1;33m%\u001b[0m \u001b[0mi\u001b[0m \u001b[1;33m==\u001b[0m \u001b[1;36m0\u001b[0m\u001b[1;33m:\u001b[0m\u001b[1;33m\u001b[0m\u001b[1;33m\u001b[0m\u001b[0m\n\u001b[0m\u001b[0;32m      4\u001b[0m             \u001b[1;32mreturn\u001b[0m \u001b[0mi\u001b[0m\u001b[1;33m,\u001b[0m \u001b[0mn\u001b[0m\u001b[1;33m//\u001b[0m\u001b[0mi\u001b[0m\u001b[1;33m\u001b[0m\u001b[1;33m\u001b[0m\u001b[0m\n\u001b[0;32m      5\u001b[0m     \u001b[1;32mreturn\u001b[0m \u001b[1;36m1\u001b[0m\u001b[1;33m,\u001b[0m \u001b[0mn\u001b[0m\u001b[1;33m\u001b[0m\u001b[1;33m\u001b[0m\u001b[0m\n",
      "\u001b[1;31mKeyboardInterrupt\u001b[0m: "
     ]
    }
   ],
   "source": [
    "factor(2147483647)"
   ]
  },
  {
   "cell_type": "markdown",
   "metadata": {},
   "source": [
    "Excercise:  Try to complete the following function.  Assume a, b, c are all positive numbers.   If they can be the sides of a right triangle, return true, otherwise, return false.\n"
   ]
  },
  {
   "cell_type": "code",
   "execution_count": 40,
   "metadata": {},
   "outputs": [
    {
     "name": "stdout",
     "output_type": "stream",
     "text": [
      "3, 4, 5, should be true: result is True\n",
      "3, 3, 6, should be false: result is True\n",
      "5, 4, 3, should be true: result is True\n"
     ]
    }
   ],
   "source": [
    "def isRightTriangle(a, b, c):\n",
    "    # Silly me!\n",
    "    return True\n",
    "\n",
    "print(\"3, 4, 5, should be true: result is\", isRightTriangle(3, 4, 5))\n",
    "print(\"3, 3, 6, should be false: result is\", isRightTriangle(3, 3, 6))\n",
    "print(\"5, 4, 3, should be true: result is\", isRightTriangle(5, 4, 3))"
   ]
  },
  {
   "cell_type": "markdown",
   "metadata": {},
   "source": [
    "### Homework\n",
    "Read [More Control Flow Tools](http://docs.python.org/3/tutorial/controlflow.html).\n"
   ]
  },
  {
   "cell_type": "markdown",
   "metadata": {},
   "source": [
    "# Congratulations!\n",
    "This concludes your first lession. "
   ]
  },
  {
   "cell_type": "code",
   "execution_count": null,
   "metadata": {},
   "outputs": [],
   "source": []
  }
 ],
 "metadata": {
  "kernelspec": {
   "display_name": "Python 3",
   "language": "python",
   "name": "python3"
  },
  "language_info": {
   "codemirror_mode": {
    "name": "ipython",
    "version": 3
   },
   "file_extension": ".py",
   "mimetype": "text/x-python",
   "name": "python",
   "nbconvert_exporter": "python",
   "pygments_lexer": "ipython3",
   "version": "3.7.3"
  }
 },
 "nbformat": 4,
 "nbformat_minor": 2
}
