{
 "cells": [
  {
   "cell_type": "markdown",
   "metadata": {},
   "source": [
    "# GCD and LCM\n",
    "Given two non-negative integers $a, b$, $gcd(a, b)$ is the greatest common divisor of $a$ and $b$.  $lcm(a, b)$ is least common multiple of $a$ and $b$.  We can compute gcd and lcm by factoring $a$ and $b$. We can write \n",
    "$$\n",
    "\\begin{aligned}\n",
    "a &= p_1^{m_1}p_2^{m_2}...p_k^{m_k} \\\\\n",
    "b &= p_1^{n_1}p_2^{n_2}...p_k^{n_k} \n",
    "\\end{aligned}\n",
    "$$\n",
    "where $p_i$ is a prime factor of either $a$ or $b$.   If $p_i$ is a factor of $a$, but not a factor of $b$, we can let $n_i = 0$ because $p_i^0 = 1$.  We have,\n",
    "$$\n",
    "gcd(a, b) = p_1^{s_1}p_2^{s_2}...p_k^{s_k}\n",
    "$$\n",
    "where $s_i = min(m_i, n_i)$\n",
    "\n",
    "### Exercise:\n",
    "1. What is $lcm(a, b)$ expressed using $p_i, m_i, n_i$?\n",
    "2. Prove that $gcd(a, b) \\times lcm(a, b) = a \\times b$\n",
    "\n",
    "## Computing gcd\n",
    "An algorithm is a step by step instruction for computing a value.  We have seen, and implemented, an algorithm for factoring an integer in previous section.  You can use factoring to compute gcd.  It is a correct algorithm.\n",
    "Besides correctness, a good algorithm is also efficient.  Factoring a large number can be quite slow.   Can we do better?\n",
    "\n",
    "## Some notation\n",
    "We write $a|b$ if $a$ can divide $b$.  We write $a \\equiv b \\mod n$ if the remainders of $a$ and $b$ divided by $n$ are the same.  We can write, \n",
    "$$\n",
    "\\begin{aligned} \n",
    "a &= kn + c \\\\\n",
    "b &= ln + d \n",
    "\\end{aligned}\n",
    "$$ where $ 0 \\leq c < n$ and $ 0 \\leq d < n$, then \n",
    "$$\n",
    "a \\equiv b \\mod n \\iff c = d\n",
    "$$\n",
    "Here the $\\iff$ sign means if and only if, that is, left side is equivalent to right side.\n",
    "\n",
    "### Exercise:\n",
    "1. Prove that $ a \\equiv b \\mod n \\iff n | (a-b) $.  Note that to prove $\\iff$, you actually have two tasks,\n",
    "    1. Assume left side is true, prove right side is true.  \n",
    "    2. Assume right side is true, prove left side is true.\n",
    "\n",
    "## Key observation (Euclid's Algorithm)\n",
    "### Exercise: \n",
    "1. Prove that if a positive intiger c is a common divisor of $a$ and $b$, that is $c|a$ and $c|b$, then $c| (a\\% b)$.\n",
    "2. $gcd(0, a) = a$ for all postive integer $a$.\n",
    "3. Prove that $gcd(a, b) = gcd(a, a\\%b) = gcd(b, a\\%b)$\n",
    "\n",
    "The Euclid's algorithm basically says,\n",
    "```\n",
    "if b is 0, gcd(a, b) is a\n",
    "if b is not 0, gcd(a, b) = gcd(b, a%b).\n",
    "```\n",
    "After each step, we will need to compute gcd of two smaller numbers, and it goes down really fast.\n"
   ]
  },
  {
   "cell_type": "code",
   "execution_count": 2,
   "metadata": {},
   "outputs": [
    {
     "name": "stdout",
     "output_type": "stream",
     "text": [
      "Compute gcd( 30031 5723 )\n",
      "Compute gcd( 5723 1416 )\n",
      "Compute gcd( 1416 59 )\n",
      "Compute gcd( 59 0 )\n"
     ]
    },
    {
     "data": {
      "text/plain": [
       "59"
      ]
     },
     "execution_count": 2,
     "metadata": {},
     "output_type": "execute_result"
    }
   ],
   "source": [
    "# Fill in the two returned value.\n",
    "def gcd(a, b):\n",
    "    print(\"Compute gcd(\", a, b, \")\")\n",
    "    if b == 0:\n",
    "        return # What you should return here?\n",
    "    return # and what you should return here?\n",
    "\n",
    "gcd(30031, 5723)"
   ]
  },
  {
   "cell_type": "markdown",
   "metadata": {},
   "source": [
    "Wow! Only a few division! \n",
    "\n",
    "### Excercise:\n",
    "Write a the following function"
   ]
  },
  {
   "cell_type": "code",
   "execution_count": 3,
   "metadata": {},
   "outputs": [
    {
     "ename": "SyntaxError",
     "evalue": "unexpected EOF while parsing (<ipython-input-3-5f85ded52605>, line 2)",
     "output_type": "error",
     "traceback": [
      "\u001b[1;36m  File \u001b[1;32m\"<ipython-input-3-5f85ded52605>\"\u001b[1;36m, line \u001b[1;32m2\u001b[0m\n\u001b[1;33m    # what?\u001b[0m\n\u001b[1;37m           ^\u001b[0m\n\u001b[1;31mSyntaxError\u001b[0m\u001b[1;31m:\u001b[0m unexpected EOF while parsing\n"
     ]
    }
   ],
   "source": [
    "def lcm(a, b):\n",
    "    # what?"
   ]
  },
  {
   "cell_type": "markdown",
   "metadata": {},
   "source": [
    "# Recursive function call \n",
    "The function gcd calls itself!  This is called a recursive function.   Can you write non-recusive gcd using a for loop?"
   ]
  },
  {
   "cell_type": "code",
   "execution_count": null,
   "metadata": {},
   "outputs": [],
   "source": [
    "def loopgcd(a, b int):\n",
    "    # loop impl of gcd.\n",
    "    \n",
    "loopgcd(30031, 5723)"
   ]
  }
 ],
 "metadata": {
  "kernelspec": {
   "display_name": "Python 3",
   "language": "python",
   "name": "python3"
  },
  "language_info": {
   "codemirror_mode": {
    "name": "ipython",
    "version": 3
   },
   "file_extension": ".py",
   "mimetype": "text/x-python",
   "name": "python",
   "nbconvert_exporter": "python",
   "pygments_lexer": "ipython3",
   "version": "3.7.3"
  }
 },
 "nbformat": 4,
 "nbformat_minor": 2
}
